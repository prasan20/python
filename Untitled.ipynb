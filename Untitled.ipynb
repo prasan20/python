{
 "cells": [
  {
   "cell_type": "code",
   "execution_count": 1,
   "id": "42ea135e",
   "metadata": {},
   "outputs": [
    {
     "name": "stdout",
     "output_type": "stream",
     "text": [
      "Hello\n"
     ]
    }
   ],
   "source": [
    "print(\"Hello\")\n"
   ]
  },
  {
   "cell_type": "code",
   "execution_count": 2,
   "id": "acbebd81",
   "metadata": {},
   "outputs": [
    {
     "name": "stdout",
     "output_type": "stream",
     "text": [
      "Hi\n",
      "Hello\n",
      "Welcome\n"
     ]
    }
   ],
   "source": [
    "print(\"Hi\\nHello\\nWelcome\")\n"
   ]
  },
  {
   "cell_type": "code",
   "execution_count": 3,
   "id": "e6fb5e50",
   "metadata": {},
   "outputs": [
    {
     "name": "stdout",
     "output_type": "stream",
     "text": [
      "hi\n",
      "welcome\n"
     ]
    }
   ],
   "source": [
    "print(\"hi\")\n",
    "#print(\"hello\")\n",
    "print(\"welcome\")"
   ]
  },
  {
   "cell_type": "code",
   "execution_count": 4,
   "id": "6699fcb8",
   "metadata": {},
   "outputs": [],
   "source": [
    "# print(\"hi\")\n",
    "# print(\"hello\")\n",
    "# print(\"welcome\")"
   ]
  },
  {
   "cell_type": "code",
   "execution_count": 5,
   "id": "80675c5d",
   "metadata": {},
   "outputs": [
    {
     "data": {
      "text/plain": [
       "'\\nthis is example for\\nmulti line comment\\n\\n'"
      ]
     },
     "execution_count": 5,
     "metadata": {},
     "output_type": "execute_result"
    }
   ],
   "source": [
    "\"\"\"\n",
    "this is example for\n",
    "multi line comment\n",
    "\n",
    "\"\"\""
   ]
  },
  {
   "cell_type": "code",
   "execution_count": 6,
   "id": "9075d9bd",
   "metadata": {},
   "outputs": [],
   "source": [
    "# \\n for next line\n",
    "# \\t for horizontal shift\n",
    "# \\b for removing space\n"
   ]
  },
  {
   "cell_type": "code",
   "execution_count": 7,
   "id": "b0164451",
   "metadata": {},
   "outputs": [
    {
     "name": "stdout",
     "output_type": "stream",
     "text": [
      "hi\thello\twelcome\n"
     ]
    }
   ],
   "source": [
    "print(\"hi\\thello\\twelcome\")\n"
   ]
  },
  {
   "cell_type": "code",
   "execution_count": 8,
   "id": "f973ac45",
   "metadata": {},
   "outputs": [
    {
     "name": "stdout",
     "output_type": "stream",
     "text": [
      "\thello\thi\n"
     ]
    }
   ],
   "source": [
    "print(\"\\thello\\thi\")\n"
   ]
  },
  {
   "cell_type": "code",
   "execution_count": 9,
   "id": "1ab65764",
   "metadata": {},
   "outputs": [
    {
     "name": "stdout",
     "output_type": "stream",
     "text": [
      "hi \bhello \bwelcome\n"
     ]
    }
   ],
   "source": [
    "print(\"hi \\bhello \\bwelcome\")"
   ]
  },
  {
   "cell_type": "code",
   "execution_count": 10,
   "id": "ef30f5f0",
   "metadata": {},
   "outputs": [
    {
     "name": "stdout",
     "output_type": "stream",
     "text": [
      "\b hi \bhello\n"
     ]
    }
   ],
   "source": [
    "print(\"\\b hi \\bhello\")\n"
   ]
  },
  {
   "cell_type": "code",
   "execution_count": 11,
   "id": "0990c242",
   "metadata": {},
   "outputs": [
    {
     "ename": "SyntaxError",
     "evalue": "invalid syntax (3787142853.py, line 4)",
     "output_type": "error",
     "traceback": [
      "\u001b[1;36m  File \u001b[1;32m\"C:\\Users\\S.PRASANNA VENKATESH\\AppData\\Local\\Temp\\ipykernel_10464\\3787142853.py\"\u001b[1;36m, line \u001b[1;32m4\u001b[0m\n\u001b[1;33m    1a9=\"test\"\u001b[0m\n\u001b[1;37m     ^\u001b[0m\n\u001b[1;31mSyntaxError\u001b[0m\u001b[1;31m:\u001b[0m invalid syntax\n"
     ]
    }
   ],
   "source": [
    "#variable name should not start with number\n",
    "#variable name should not have any special character\n",
    "#_ is not a special character in python\n",
    "1a9=\"test\"\n"
   ]
  },
  {
   "cell_type": "code",
   "execution_count": 13,
   "id": "c6264cb2",
   "metadata": {},
   "outputs": [
    {
     "ename": "SyntaxError",
     "evalue": "(unicode error) 'unicodeescape' codec can't decode bytes in position 9-10: truncated \\UXXXXXXXX escape (4081526658.py, line 7)",
     "output_type": "error",
     "traceback": [
      "\u001b[1;36m  File \u001b[1;32m\"C:\\Users\\S.PRASANNA VENKATESH\\AppData\\Local\\Temp\\ipykernel_10464\\4081526658.py\"\u001b[1;36m, line \u001b[1;32m7\u001b[0m\n\u001b[1;33m    \"\"\"\u001b[0m\n\u001b[1;37m       ^\u001b[0m\n\u001b[1;31mSyntaxError\u001b[0m\u001b[1;31m:\u001b[0m (unicode error) 'unicodeescape' codec can't decode bytes in position 9-10: truncated \\UXXXXXXXX escape\n"
     ]
    }
   ],
   "source": [
    "\"\"\"File \n",
    "\"C:\\Users\\S.PRASANNA VENKATESH\\AppData\\Local\\Temp\\ipykernel_10464\\3787142853.py\", line 4\n",
    "    1a9=\"test\"\n",
    "     ^\n",
    "SyntaxError: invalid syntax\n",
    "this is the error thrown\n",
    "\"\"\""
   ]
  },
  {
   "cell_type": "code",
   "execution_count": 14,
   "id": "89a63906",
   "metadata": {},
   "outputs": [],
   "source": [
    "#string\n",
    "a=\"test\"\n"
   ]
  },
  {
   "cell_type": "code",
   "execution_count": 15,
   "id": "6679af1f",
   "metadata": {},
   "outputs": [
    {
     "name": "stdout",
     "output_type": "stream",
     "text": [
      "<class 'str'>\n"
     ]
    }
   ],
   "source": [
    "print(type(a))\n"
   ]
  },
  {
   "cell_type": "code",
   "execution_count": 16,
   "id": "457fc6be",
   "metadata": {},
   "outputs": [
    {
     "name": "stdout",
     "output_type": "stream",
     "text": [
      "True\n"
     ]
    }
   ],
   "source": [
    "print(isinstance(a,str))\n"
   ]
  },
  {
   "cell_type": "code",
   "execution_count": 17,
   "id": "22971ef3",
   "metadata": {},
   "outputs": [],
   "source": [
    "#print(type(x))\n",
    "#print(isinstance(x,data_type))"
   ]
  },
  {
   "cell_type": "code",
   "execution_count": 18,
   "id": "6a4cc134",
   "metadata": {},
   "outputs": [
    {
     "name": "stdout",
     "output_type": "stream",
     "text": [
      "4\n"
     ]
    }
   ],
   "source": [
    "print(len(a))\n",
    "#finding the length of the string\n"
   ]
  },
  {
   "cell_type": "code",
   "execution_count": 19,
   "id": "da549717",
   "metadata": {},
   "outputs": [
    {
     "name": "stdout",
     "output_type": "stream",
     "text": [
      "['e', 's', 't', 't']\n"
     ]
    }
   ],
   "source": [
    "print(sorted(a))\n",
    "#sorted accn to ascii values"
   ]
  },
  {
   "cell_type": "code",
   "execution_count": 20,
   "id": "bd357c88",
   "metadata": {},
   "outputs": [
    {
     "name": "stdout",
     "output_type": "stream",
     "text": [
      "e\n",
      "t\n"
     ]
    }
   ],
   "source": [
    "print(min(a))#min ascii value\n",
    "print(max(a))#max ascii value"
   ]
  },
  {
   "cell_type": "code",
   "execution_count": 22,
   "id": "2bb8f30e",
   "metadata": {},
   "outputs": [
    {
     "name": "stdout",
     "output_type": "stream",
     "text": [
      "True\n",
      "True\n",
      "False\n",
      "True\n",
      "False\n",
      "TEST\n",
      "test\n",
      "TEST\n",
      "Test\n",
      "Test\n"
     ]
    }
   ],
   "source": [
    "print(a.isalpha())#checks it is an alphabet or not\n",
    "print(a.isalnum())#checks it is an alphabet or num\n",
    "print(a.isupper())#checks whether is it upper or not\n",
    "print(a.islower())#checks whether it is lower or not\n",
    "print(a.isdigit())#checks whether it is digit or not\n",
    "print(a.upper())#makes everything upper\n",
    "print(a.lower())#makes everything lower\n",
    "print(a.swapcase())#shifts lower to upper and upper to lower\n",
    "print(a.title())#makes all the 1st letter of the word capital\n",
    "print(a.capitalize())#makes first letter of the sentence alone capital"
   ]
  },
  {
   "cell_type": "code",
   "execution_count": null,
   "id": "7a9e2c45",
   "metadata": {},
   "outputs": [],
   "source": []
  }
 ],
 "metadata": {
  "kernelspec": {
   "display_name": "Python 3 (ipykernel)",
   "language": "python",
   "name": "python3"
  },
  "language_info": {
   "codemirror_mode": {
    "name": "ipython",
    "version": 3
   },
   "file_extension": ".py",
   "mimetype": "text/x-python",
   "name": "python",
   "nbconvert_exporter": "python",
   "pygments_lexer": "ipython3",
   "version": "3.9.13"
  }
 },
 "nbformat": 4,
 "nbformat_minor": 5
}
